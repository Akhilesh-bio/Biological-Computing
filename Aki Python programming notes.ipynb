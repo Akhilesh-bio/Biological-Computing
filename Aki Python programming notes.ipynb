{
 "cells": [
  {
   "cell_type": "code",
   "execution_count": null,
   "metadata": {},
   "outputs": [],
   "source": [
    "# Python programming for Begginers #\n",
    "# Step1: Download and Install latest version of Python (Software)\n",
    "# Step1: Download and Install latest version of PyCharm (Integrated Development Environment)\n",
    "# Step1: Download and Install latest version of Anaconda\n",
    "# Anaconda provides jupyter IDE for programming in Anaconda. Jupyter is a browser based interpreter that allows us to intearctively work with python. \n",
    "\n",
    "#Python Tutorial: Lets start with first code#"
   ]
  },
  {
   "cell_type": "code",
   "execution_count": 1,
   "metadata": {},
   "outputs": [
    {
     "name": "stdout",
     "output_type": "stream",
     "text": [
      "Lets learn Python programming\n"
     ]
    }
   ],
   "source": [
    "print(\"Lets learn Python programming\");\n"
   ]
  },
  {
   "cell_type": "code",
   "execution_count": null,
   "metadata": {},
   "outputs": [],
   "source": [
    "#Text Files#\n",
    "\n",
    "# A variety of seemingly complex and disparate computational,challenges routinely faced by biologists can be reformulated as simple text manipulations that can be addressed with a common set Of tools.\n",
    "\n",
    "# Plain text files are the common currency of many programming environments and their accompanying data. Even for software packages or instruments which store data in special proprietary file furn tats, there is usually an option to export or import data as plain text files.\n",
    "\n",
    "# REPRESENTING TEXT With NUMBERS 1) American Standard Code for Information Interchange (ASCII) 2) Unicode such as UTF-8, UTF-16\n",
    "\n",
    "# Although all fi]es are inherently binary in nature, a file is usually referred to as being either a binary file ( a file that doesn't simply encode a series of text characters) or a text file (a binary file that does encode such a series).\n",
    "\n",
    "# For most biological data, a text representation of data works perfectly well, and is in fact desirable. Why? It comes down to transparency and portability trumping size and speed. Transparency means that the contents of text files are readily accessed.\n",
    "\n",
    "# storing data in a well-organized text file greatly extends the lifetime of the data and increases the number of things you, can do with them."
   ]
  },
  {
   "cell_type": "code",
   "execution_count": 3,
   "metadata": {},
   "outputs": [],
   "source": [
    "#Organization of data within a text file#\n",
    "\n",
    "#The most common way to organize data in a text file is as character-delimited text.\n",
    "\n",
    "# The first line in character-delimited text files often consists of a series Of descriptions of the columns, delimited by the same character as the data themselves. This description line is called the header.\n",
    "\n",
    "# Character delimitation is not the best option for all types of data. If the data are hierarchical in nature, for instance with varying degrees of nestedness and a different number of nested, elements at each level, it is a very inefficient way to store information. A phylogenetic tree is an example of this category of data.\n",
    "\n",
    "# a wide array of fomats is available for organizing different types of biological data within text files, often with many formats for the exact same type of data. For example, there are FASTA, GenBank, and NRBF formats for molecular sequence data.\n",
    "\n",
    "# 1) use fixed data space or monospaced typeface (font e.g. Courier)  2) show line numbers (helps in navigating directly to the line where another program identified any problem)\n",
    "\n",
    "# The characters used to designate the ending of a line that is, the symbol inserted when you hit the I RETURN key were never standardized across different operating systems.\n",
    "\n",
    "# There are two line ending characters, carriage return (abbreviated CR or \\r) and line feed (abbreviated LF or \\n). Unix systems,including, OS X, use a line feed, some older Macintosh programs use a carriage return, and Microsoft Windows uses a carriage retum followed by a line feed!"
   ]
  },
  {
   "cell_type": "code",
   "execution_count": null,
   "metadata": {},
   "outputs": [],
   "source": []
  },
  {
   "cell_type": "code",
   "execution_count": null,
   "metadata": {},
   "outputs": [],
   "source": []
  }
 ],
 "metadata": {
  "kernelspec": {
   "display_name": "Python 3",
   "language": "python",
   "name": "python3"
  },
  "language_info": {
   "codemirror_mode": {
    "name": "ipython",
    "version": 3
   },
   "file_extension": ".py",
   "mimetype": "text/x-python",
   "name": "python",
   "nbconvert_exporter": "python",
   "pygments_lexer": "ipython3",
   "version": "3.7.6"
  }
 },
 "nbformat": 4,
 "nbformat_minor": 4
}
